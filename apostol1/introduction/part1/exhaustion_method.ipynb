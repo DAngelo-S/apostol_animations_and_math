{
 "cells": [
  {
   "cell_type": "code",
   "execution_count": null,
   "id": "ec3d634b-d6f8-4aea-9375-50360abf09bd",
   "metadata": {},
   "outputs": [],
   "source": []
  }
 ],
 "metadata": {
  "kernelspec": {
   "display_name": "",
   "name": ""
  },
  "language_info": {
   "name": ""
  }
 },
 "nbformat": 4,
 "nbformat_minor": 5
}
