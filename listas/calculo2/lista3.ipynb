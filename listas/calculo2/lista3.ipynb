version https://git-lfs.github.com/spec/v1
oid sha256:d4947834621e95b803e8540e42ee127480f8a8df3b99929e29b66cd6ee44dd88
size 229540072
